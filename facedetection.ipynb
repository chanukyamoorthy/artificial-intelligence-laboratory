{
 "cells": [
  {
   "cell_type": "code",
   "execution_count": 1,
   "metadata": {},
   "outputs": [],
   "source": [
    "from tkinter import Toplevel, Label\n",
    "import matplotlib.pyplot as plt #plot import\n",
    "import matplotlib.colors  #color import\n",
    "import numpy as np  #importing numpy\n",
    "from PIL import Image #importing PIL to read all kind of images\n",
    "from PIL import ImageTk\n",
    "import glob"
   ]
  },
  {
   "cell_type": "code",
   "execution_count": 2,
   "metadata": {},
   "outputs": [],
   "source": [
    "def displaying_faces_grid(displaying_faces):\n",
    "    size=100, 100\n",
    "    #fig1=plt.figure('name')\n",
    "    fig1, axes_array = plt.subplots(5, 5)\n",
    "    fig1.set_size_inches(5,5)\n",
    "    count=0\n",
    "    for x in range(5):\n",
    "        for y in range (5):\n",
    "            #if images are taken\n",
    "            draw_image = displaying_faces[count]\n",
    "            draw_image.thumbnail(size)\n",
    "            draw_image= np.asarray(draw_image,dtype=float)/255.0\n",
    "\n",
    "            image_plot=axes_array[x][y].imshow(draw_image,cmap=plt.cm.gray)\n",
    "            axes_array[x][y].axis('off')\n",
    "            count=count+1\n",
    "    fig1.canvas.set_window_title('Displaying all faces')\n",
    "    plt.show()"
   ]
  },
  {
   "cell_type": "code",
   "execution_count": 3,
   "metadata": {},
   "outputs": [],
   "source": [
    "def display_mean_face(face_array):\n",
    "    mean = np.mean(face_array, 0)\n",
    "    fig2, axes_array = plt.subplots(1, 1)\n",
    "    fig2.set_size_inches(5, 5)\n",
    "    image_plot = axes_array.imshow(mean, cmap=plt.cm.gray)\n",
    "    fig2.canvas.set_window_title('mean faces')\n",
    "    plt.show()\n",
    "    return mean"
   ]
  },
  {
   "cell_type": "code",
   "execution_count": 4,
   "metadata": {},
   "outputs": [],
   "source": [
    "def performing_pca(face_array):\n",
    "    print(\"MEAN FACE DISPLAY\")\n",
    "    mean = display_mean_face(face_array)\n",
    "    # flattening array\n",
    "    flatten_Array = []\n",
    "    for x in range(len(face_array)):\n",
    "        flat_Array = face_array[x].flatten()\n",
    "        flatten_Array.append(flat_Array)\n",
    "    flatten_Array = np.asarray(flatten_Array)\n",
    "    mean = mean.flatten()\n",
    "    # flatten_Array=flatten_Array.T\n",
    "    #print(flatten_Array.shape)\n",
    "    #face_array = face_array.flatten()\n",
    "    # mean=mean.T\n",
    "    #substract_mean_from_original = np.subtract(flatten_Array, mean)\n",
    "    # transpose_substract_mean_from_original=substract_mean_from_original.T\n",
    "    # eigen_faces=displaying_eigen_faces(face_array,mean)\n",
    "    #covariance_matrix = np.cov(substract_mean_from_original)\n",
    "    #eigen_values, eigen_vectors = np.linalg.eig(covariance_matrix)\n",
    "    return mean,flatten_Array,"
   ]
  },
  {
   "cell_type": "code",
   "execution_count": 5,
   "metadata": {},
   "outputs": [],
   "source": [
    "def display_all(images):\n",
    "    fig3, axes_array = plt.subplots(5, 5)\n",
    "    fig3.set_size_inches(5, 5)\n",
    "    count = 0\n",
    "    for x in range(5):\n",
    "        for y in range(5):\n",
    "            draw_image = images[count]\n",
    "            image_plot = axes_array[x][y].imshow(draw_image, cmap=plt.cm.gray)\n",
    "            axes_array[x][y].axis('off')\n",
    "            count = count + 1\n",
    "    fig3.canvas.set_window_title('Eigen Faces')\n",
    "    plt.show()"
   ]
  },
  {
   "cell_type": "code",
   "execution_count": 6,
   "metadata": {},
   "outputs": [],
   "source": [
    "def reading_faces_and_displaying():\n",
    "    face_array = []\n",
    "    displaying_faces = []\n",
    "    for face_images in glob.glob('C:/Users/student/Desktop/PCA-and-Eigen-Faces-master/Eigenfaces/Train/*.jpg'): # assuming jpg\n",
    "        face_image=Image.open(face_images)\n",
    "        displaying_faces.append(face_image)\n",
    "        face_image = np.asarray(face_image,dtype=float)/255.0\n",
    "        face_array.append(face_image)\n",
    "    print(\"DISPLAYING ORIGINAL FACES\")\n",
    "    displaying_faces_grid(displaying_faces)\n",
    "    face_array=np.asarray(face_array)\n",
    "    return face_array"
   ]
  },
  {
   "cell_type": "code",
   "execution_count": 7,
   "metadata": {},
   "outputs": [
    {
     "name": "stdout",
     "output_type": "stream",
     "text": [
      "DISPLAYING ORIGINAL FACES\n"
     ]
    },
    {
     "ename": "IndexError",
     "evalue": "list index out of range",
     "output_type": "error",
     "traceback": [
      "\u001b[1;31m---------------------------------------------------------------------------\u001b[0m",
      "\u001b[1;31mIndexError\u001b[0m                                Traceback (most recent call last)",
      "\u001b[1;32m<ipython-input-7-40d4f1a1c3fc>\u001b[0m in \u001b[0;36m<module>\u001b[1;34m\u001b[0m\n\u001b[1;32m----> 1\u001b[1;33m \u001b[0mface_array\u001b[0m\u001b[1;33m=\u001b[0m\u001b[0mreading_faces_and_displaying\u001b[0m\u001b[1;33m(\u001b[0m\u001b[1;33m)\u001b[0m\u001b[1;33m\u001b[0m\u001b[1;33m\u001b[0m\u001b[0m\n\u001b[0m\u001b[0;32m      2\u001b[0m \u001b[0mmean\u001b[0m\u001b[1;33m,\u001b[0m\u001b[0mflatten_Array\u001b[0m\u001b[1;33m=\u001b[0m\u001b[0mperforming_pca\u001b[0m\u001b[1;33m(\u001b[0m\u001b[0mface_array\u001b[0m\u001b[1;33m)\u001b[0m \u001b[1;31m# eigen_values,eigen_vectors\u001b[0m\u001b[1;33m\u001b[0m\u001b[1;33m\u001b[0m\u001b[0m\n\u001b[0;32m      3\u001b[0m \u001b[0msubstract_mean_from_original\u001b[0m \u001b[1;33m=\u001b[0m \u001b[0mnp\u001b[0m\u001b[1;33m.\u001b[0m\u001b[0msubtract\u001b[0m\u001b[1;33m(\u001b[0m\u001b[0mflatten_Array\u001b[0m\u001b[1;33m,\u001b[0m \u001b[0mmean\u001b[0m\u001b[1;33m)\u001b[0m\u001b[1;33m\u001b[0m\u001b[1;33m\u001b[0m\u001b[0m\n\u001b[0;32m      4\u001b[0m \u001b[0mU\u001b[0m\u001b[1;33m,\u001b[0m \u001b[0ms\u001b[0m\u001b[1;33m,\u001b[0m \u001b[0mV\u001b[0m \u001b[1;33m=\u001b[0m \u001b[0mnp\u001b[0m\u001b[1;33m.\u001b[0m\u001b[0mlinalg\u001b[0m\u001b[1;33m.\u001b[0m\u001b[0msvd\u001b[0m\u001b[1;33m(\u001b[0m\u001b[0msubstract_mean_from_original\u001b[0m\u001b[1;33m,\u001b[0m \u001b[0mfull_matrices\u001b[0m\u001b[1;33m=\u001b[0m\u001b[1;32mFalse\u001b[0m\u001b[1;33m)\u001b[0m\u001b[1;33m\u001b[0m\u001b[1;33m\u001b[0m\u001b[0m\n\u001b[0;32m      5\u001b[0m \u001b[0mEigen_faces\u001b[0m\u001b[1;33m=\u001b[0m\u001b[1;33m[\u001b[0m\u001b[1;33m]\u001b[0m\u001b[1;33m\u001b[0m\u001b[1;33m\u001b[0m\u001b[0m\n",
      "\u001b[1;32m<ipython-input-6-7631a0d05a92>\u001b[0m in \u001b[0;36mreading_faces_and_displaying\u001b[1;34m()\u001b[0m\n\u001b[0;32m      8\u001b[0m         \u001b[0mface_array\u001b[0m\u001b[1;33m.\u001b[0m\u001b[0mappend\u001b[0m\u001b[1;33m(\u001b[0m\u001b[0mface_image\u001b[0m\u001b[1;33m)\u001b[0m\u001b[1;33m\u001b[0m\u001b[1;33m\u001b[0m\u001b[0m\n\u001b[0;32m      9\u001b[0m     \u001b[0mprint\u001b[0m\u001b[1;33m(\u001b[0m\u001b[1;34m\"DISPLAYING ORIGINAL FACES\"\u001b[0m\u001b[1;33m)\u001b[0m\u001b[1;33m\u001b[0m\u001b[1;33m\u001b[0m\u001b[0m\n\u001b[1;32m---> 10\u001b[1;33m     \u001b[0mdisplaying_faces_grid\u001b[0m\u001b[1;33m(\u001b[0m\u001b[0mdisplaying_faces\u001b[0m\u001b[1;33m)\u001b[0m\u001b[1;33m\u001b[0m\u001b[1;33m\u001b[0m\u001b[0m\n\u001b[0m\u001b[0;32m     11\u001b[0m     \u001b[0mface_array\u001b[0m\u001b[1;33m=\u001b[0m\u001b[0mnp\u001b[0m\u001b[1;33m.\u001b[0m\u001b[0masarray\u001b[0m\u001b[1;33m(\u001b[0m\u001b[0mface_array\u001b[0m\u001b[1;33m)\u001b[0m\u001b[1;33m\u001b[0m\u001b[1;33m\u001b[0m\u001b[0m\n\u001b[0;32m     12\u001b[0m     \u001b[1;32mreturn\u001b[0m \u001b[0mface_array\u001b[0m\u001b[1;33m\u001b[0m\u001b[1;33m\u001b[0m\u001b[0m\n",
      "\u001b[1;32m<ipython-input-2-fb141c09dedc>\u001b[0m in \u001b[0;36mdisplaying_faces_grid\u001b[1;34m(displaying_faces)\u001b[0m\n\u001b[0;32m      8\u001b[0m         \u001b[1;32mfor\u001b[0m \u001b[0my\u001b[0m \u001b[1;32min\u001b[0m \u001b[0mrange\u001b[0m \u001b[1;33m(\u001b[0m\u001b[1;36m5\u001b[0m\u001b[1;33m)\u001b[0m\u001b[1;33m:\u001b[0m\u001b[1;33m\u001b[0m\u001b[1;33m\u001b[0m\u001b[0m\n\u001b[0;32m      9\u001b[0m             \u001b[1;31m#if images are taken\u001b[0m\u001b[1;33m\u001b[0m\u001b[1;33m\u001b[0m\u001b[1;33m\u001b[0m\u001b[0m\n\u001b[1;32m---> 10\u001b[1;33m             \u001b[0mdraw_image\u001b[0m \u001b[1;33m=\u001b[0m \u001b[0mdisplaying_faces\u001b[0m\u001b[1;33m[\u001b[0m\u001b[0mcount\u001b[0m\u001b[1;33m]\u001b[0m\u001b[1;33m\u001b[0m\u001b[1;33m\u001b[0m\u001b[0m\n\u001b[0m\u001b[0;32m     11\u001b[0m             \u001b[0mdraw_image\u001b[0m\u001b[1;33m.\u001b[0m\u001b[0mthumbnail\u001b[0m\u001b[1;33m(\u001b[0m\u001b[0msize\u001b[0m\u001b[1;33m)\u001b[0m\u001b[1;33m\u001b[0m\u001b[1;33m\u001b[0m\u001b[0m\n\u001b[0;32m     12\u001b[0m             \u001b[0mdraw_image\u001b[0m\u001b[1;33m=\u001b[0m \u001b[0mnp\u001b[0m\u001b[1;33m.\u001b[0m\u001b[0masarray\u001b[0m\u001b[1;33m(\u001b[0m\u001b[0mdraw_image\u001b[0m\u001b[1;33m,\u001b[0m\u001b[0mdtype\u001b[0m\u001b[1;33m=\u001b[0m\u001b[0mfloat\u001b[0m\u001b[1;33m)\u001b[0m\u001b[1;33m/\u001b[0m\u001b[1;36m255.0\u001b[0m\u001b[1;33m\u001b[0m\u001b[1;33m\u001b[0m\u001b[0m\n",
      "\u001b[1;31mIndexError\u001b[0m: list index out of range"
     ]
    },
    {
     "data": {
      "image/png": "[encoded data removed]",
      "text/plain": [
       "<Figure size 360x360 with 25 Axes>"
      ]
     },
     "metadata": {
      "needs_background": "light"
     },
     "output_type": "display_data"
    }
   ],
   "source": [
    "face_array=reading_faces_and_displaying()\n",
    "mean,flatten_Array=performing_pca(face_array) # eigen_values,eigen_vectors\n",
    "substract_mean_from_original = np.subtract(flatten_Array, mean)\n",
    "U, s, V = np.linalg.svd(substract_mean_from_original, full_matrices=False)\n",
    "Eigen_faces=[]\n",
    "for x in range(V.shape[0]):\n",
    "    fig=np.reshape(V[x],(425,425))\n",
    "    Eigen_faces.append(fig)\n",
    "print(\"EIGEN FACES\")\n",
    "display_all(Eigen_faces)"
   ]
  },
  {
   "cell_type": "code",
   "execution_count": null,
   "metadata": {},
   "outputs": [],
   "source": []
  }
 ],
 "metadata": {
  "kernelspec": {
   "display_name": "Python 3",
   "language": "python",
   "name": "python3"
  },
  "language_info": {
   "codemirror_mode": {
    "name": "ipython",
    "version": 3
   },
   "file_extension": ".py",
   "mimetype": "text/x-python",
   "name": "python",
   "nbconvert_exporter": "python",
   "pygments_lexer": "ipython3",
   "version": "3.7.1"
  }
 },
 "nbformat": 4,
 "nbformat_minor": 2
}
